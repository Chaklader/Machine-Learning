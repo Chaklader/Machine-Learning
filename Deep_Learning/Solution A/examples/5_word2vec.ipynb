{
 "cells": [
  {
   "cell_type": "markdown",
   "metadata": {
    "colab_type": "text",
    "id": "D7tqLMoKF6uq"
   },
   "source": [
    "Deep Learning\n",
    "=============\n",
    "\n",
    "Assignment 5\n",
    "------------\n",
    "\n",
    "The goal of this assignment is to train a skip-gram model over [Text8](http://mattmahoney.net/dc/textdata) data."
   ]
  },
  {
   "cell_type": "code",
   "execution_count": 1,
   "metadata": {
    "cellView": "both",
    "colab": {
     "autoexec": {
      "startup": false,
      "wait_interval": 0
     }
    },
    "colab_type": "code",
    "collapsed": false,
    "id": "0K1ZyLn04QZf"
   },
   "outputs": [
    {
     "ename": "ImportError",
     "evalue": "cannot import name TSNE",
     "output_type": "error",
     "traceback": [
      "\u001b[1;31m---------------------------------------------------------------------------\u001b[0m",
      "\u001b[1;31mImportError\u001b[0m                               Traceback (most recent call last)",
      "\u001b[1;32m<ipython-input-1-6205c2571c61>\u001b[0m in \u001b[0;36m<module>\u001b[1;34m()\u001b[0m\n\u001b[0;32m     10\u001b[0m \u001b[1;32mimport\u001b[0m \u001b[0mzipfile\u001b[0m\u001b[1;33m\u001b[0m\u001b[0m\n\u001b[0;32m     11\u001b[0m \u001b[1;32mfrom\u001b[0m \u001b[0mmatplotlib\u001b[0m \u001b[1;32mimport\u001b[0m \u001b[0mpylab\u001b[0m\u001b[1;33m\u001b[0m\u001b[0m\n\u001b[1;32m---> 12\u001b[1;33m \u001b[1;32mfrom\u001b[0m \u001b[0msklearn\u001b[0m\u001b[1;33m.\u001b[0m\u001b[0mmanifold\u001b[0m \u001b[1;32mimport\u001b[0m \u001b[0mTSNE\u001b[0m\u001b[1;33m\u001b[0m\u001b[0m\n\u001b[0m",
      "\u001b[1;31mImportError\u001b[0m: cannot import name TSNE"
     ]
    }
   ],
   "source": [
    "# These are all the modules we'll be using later. Make sure you can import them\n",
    "# before proceeding further.\n",
    "import collections\n",
    "import math\n",
    "import numpy as np\n",
    "import os\n",
    "import random\n",
    "import tensorflow as tf\n",
    "import urllib\n",
    "import zipfile\n",
    "from matplotlib import pylab\n",
    "from sklearn.manifold import TSNE"
   ]
  },
  {
   "cell_type": "markdown",
   "metadata": {
    "colab_type": "text",
    "id": "aCjPJE944bkV"
   },
   "source": [
    "Download the data from the source website if necessary."
   ]
  },
  {
   "cell_type": "code",
   "execution_count": 2,
   "metadata": {
    "cellView": "both",
    "colab": {
     "autoexec": {
      "startup": false,
      "wait_interval": 0
     },
     "output_extras": [
      {
       "item_id": 1
      }
     ]
    },
    "colab_type": "code",
    "collapsed": false,
    "executionInfo": {
     "elapsed": 14640,
     "status": "ok",
     "timestamp": 1445964482948,
     "user": {
      "color": "#1FA15D",
      "displayName": "Vincent Vanhoucke",
      "isAnonymous": false,
      "isMe": true,
      "permissionId": "05076109866853157986",
      "photoUrl": "//lh6.googleusercontent.com/-cCJa7dTDcgQ/AAAAAAAAAAI/AAAAAAAACgw/r2EZ_8oYer4/s50-c-k-no/photo.jpg",
      "sessionId": "2f1ffade4c9f20de",
      "userId": "102167687554210253930"
     },
     "user_tz": 420
    },
    "id": "RJ-o3UBUFtCw",
    "outputId": "c4ec222c-80b5-4298-e635-93ca9f79c3b7"
   },
   "outputs": [
    {
     "name": "stdout",
     "output_type": "stream",
     "text": [
      "Found and verified text8.zip\n"
     ]
    }
   ],
   "source": [
    "url = 'http://mattmahoney.net/dc/'\n",
    "\n",
    "def maybe_download(filename, expected_bytes):\n",
    "  \"\"\"Download a file if not present, and make sure it's the right size.\"\"\"\n",
    "  if not os.path.exists(filename):\n",
    "    filename, _ = urllib.urlretrieve(url + filename, filename)\n",
    "  statinfo = os.stat(filename)\n",
    "  if statinfo.st_size == expected_bytes:\n",
    "    print 'Found and verified', filename\n",
    "  else:\n",
    "    print statinfo.st_size\n",
    "    raise Exception(\n",
    "      'Failed to verify ' + filename + '. Can you get to it with a browser?')\n",
    "  return filename\n",
    "\n",
    "filename = maybe_download('text8.zip', 31344016)"
   ]
  },
  {
   "cell_type": "markdown",
   "metadata": {
    "colab_type": "text",
    "id": "Zqz3XiqI4mZT"
   },
   "source": [
    "Read the data into a string."
   ]
  },
  {
   "cell_type": "code",
   "execution_count": 3,
   "metadata": {
    "cellView": "both",
    "colab": {
     "autoexec": {
      "startup": false,
      "wait_interval": 0
     },
     "output_extras": [
      {
       "item_id": 1
      }
     ]
    },
    "colab_type": "code",
    "collapsed": false,
    "executionInfo": {
     "elapsed": 28844,
     "status": "ok",
     "timestamp": 1445964497165,
     "user": {
      "color": "#1FA15D",
      "displayName": "Vincent Vanhoucke",
      "isAnonymous": false,
      "isMe": true,
      "permissionId": "05076109866853157986",
      "photoUrl": "//lh6.googleusercontent.com/-cCJa7dTDcgQ/AAAAAAAAAAI/AAAAAAAACgw/r2EZ_8oYer4/s50-c-k-no/photo.jpg",
      "sessionId": "2f1ffade4c9f20de",
      "userId": "102167687554210253930"
     },
     "user_tz": 420
    },
    "id": "Mvf09fjugFU_",
    "outputId": "e3a928b4-1645-4fe8-be17-fcf47de5716d"
   },
   "outputs": [
    {
     "name": "stdout",
     "output_type": "stream",
     "text": [
      "Data size 17005207\n"
     ]
    }
   ],
   "source": [
    "def read_data(filename):\n",
    "  f = zipfile.ZipFile(filename)\n",
    "  for name in f.namelist():\n",
    "    return f.read(name).split()\n",
    "  f.close()\n",
    "  \n",
    "words = read_data(filename)\n",
    "print 'Data size', len(words)"
   ]
  },
  {
   "cell_type": "markdown",
   "metadata": {
    "colab_type": "text",
    "id": "Zdw6i4F8glpp"
   },
   "source": [
    "Build the dictionary and replace rare words with UNK token."
   ]
  },
  {
   "cell_type": "code",
   "execution_count": 4,
   "metadata": {
    "cellView": "both",
    "colab": {
     "autoexec": {
      "startup": false,
      "wait_interval": 0
     },
     "output_extras": [
      {
       "item_id": 1
      }
     ]
    },
    "colab_type": "code",
    "collapsed": false,
    "executionInfo": {
     "elapsed": 28849,
     "status": "ok",
     "timestamp": 1445964497178,
     "user": {
      "color": "#1FA15D",
      "displayName": "Vincent Vanhoucke",
      "isAnonymous": false,
      "isMe": true,
      "permissionId": "05076109866853157986",
      "photoUrl": "//lh6.googleusercontent.com/-cCJa7dTDcgQ/AAAAAAAAAAI/AAAAAAAACgw/r2EZ_8oYer4/s50-c-k-no/photo.jpg",
      "sessionId": "2f1ffade4c9f20de",
      "userId": "102167687554210253930"
     },
     "user_tz": 420
    },
    "id": "gAL1EECXeZsD",
    "outputId": "3fb4ecd1-df67-44b6-a2dc-2291730970b2"
   },
   "outputs": [
    {
     "name": "stdout",
     "output_type": "stream",
     "text": [
      "Most common words (+UNK) [['UNK', 418391], ('the', 1061396), ('of', 593677), ('and', 416629), ('one', 411764)]\n",
      "Sample data [5239, 3084, 12, 6, 195, 2, 3137, 46, 59, 156]\n"
     ]
    }
   ],
   "source": [
    "vocabulary_size = 50000\n",
    "\n",
    "def build_dataset(words):\n",
    "  count = [['UNK', -1]]\n",
    "  count.extend(collections.Counter(words).most_common(vocabulary_size - 1))\n",
    "  dictionary = dict()\n",
    "  for word, _ in count:\n",
    "    dictionary[word] = len(dictionary)\n",
    "  data = list()\n",
    "  unk_count = 0\n",
    "  for word in words:\n",
    "    if word in dictionary:\n",
    "      index = dictionary[word]\n",
    "    else:\n",
    "      index = 0  # dictionary['UNK']\n",
    "      unk_count = unk_count + 1\n",
    "    data.append(index)\n",
    "  count[0][1] = unk_count\n",
    "  reverse_dictionary = dict(zip(dictionary.values(), dictionary.keys())) \n",
    "  return data, count, dictionary, reverse_dictionary\n",
    "\n",
    "data, count, dictionary, reverse_dictionary = build_dataset(words)\n",
    "print 'Most common words (+UNK)', count[:5]\n",
    "print 'Sample data', data[:10]\n",
    "del words  # Hint to reduce memory."
   ]
  },
  {
   "cell_type": "markdown",
   "metadata": {
    "colab_type": "text",
    "id": "lFwoyygOmWsL"
   },
   "source": [
    "Function to generate a training batch for the skip-gram model."
   ]
  },
  {
   "cell_type": "code",
   "execution_count": 5,
   "metadata": {
    "cellView": "both",
    "colab": {
     "autoexec": {
      "startup": false,
      "wait_interval": 0
     },
     "output_extras": [
      {
       "item_id": 1
      }
     ]
    },
    "colab_type": "code",
    "collapsed": false,
    "executionInfo": {
     "elapsed": 113,
     "status": "ok",
     "timestamp": 1445964901989,
     "user": {
      "color": "#1FA15D",
      "displayName": "Vincent Vanhoucke",
      "isAnonymous": false,
      "isMe": true,
      "permissionId": "05076109866853157986",
      "photoUrl": "//lh6.googleusercontent.com/-cCJa7dTDcgQ/AAAAAAAAAAI/AAAAAAAACgw/r2EZ_8oYer4/s50-c-k-no/photo.jpg",
      "sessionId": "2f1ffade4c9f20de",
      "userId": "102167687554210253930"
     },
     "user_tz": 420
    },
    "id": "w9APjA-zmfjV",
    "outputId": "67cccb02-cdaf-4e47-d489-43bcc8d57bb8"
   },
   "outputs": [
    {
     "name": "stdout",
     "output_type": "stream",
     "text": [
      "3084 -> 5239\n",
      "originated -> anarchism\n",
      "3084 -> 12\n",
      "originated -> as\n",
      "12 -> 6\n",
      "as -> a\n",
      "12 -> 3084\n",
      "as -> originated\n",
      "6 -> 195\n",
      "a -> term\n",
      "6 -> 12\n",
      "a -> as\n",
      "195 -> 2\n",
      "term -> of\n",
      "195 -> 6\n",
      "term -> a\n"
     ]
    }
   ],
   "source": [
    "data_index = 0\n",
    "\n",
    "def generate_batch(batch_size, num_skips, skip_window):\n",
    "  global data_index\n",
    "  assert batch_size % num_skips == 0\n",
    "  assert num_skips <= 2 * skip_window\n",
    "  batch = np.ndarray(shape=(batch_size), dtype=np.int32)\n",
    "  labels = np.ndarray(shape=(batch_size, 1), dtype=np.int32)\n",
    "  span = 2 * skip_window + 1 # [ skip_window target skip_window ]\n",
    "  buffer = collections.deque(maxlen=span)\n",
    "  for _ in range(span):\n",
    "    buffer.append(data[data_index])\n",
    "    data_index = (data_index + 1) % len(data)\n",
    "  for i in range(batch_size / num_skips):\n",
    "    target = skip_window  # target label at the center of the buffer\n",
    "    targets_to_avoid = [ skip_window ]\n",
    "    for j in range(num_skips):\n",
    "      while target in targets_to_avoid:\n",
    "        target = random.randint(0, span - 1)\n",
    "      targets_to_avoid.append(target)\n",
    "      batch[i * num_skips + j] = buffer[skip_window]\n",
    "      labels[i * num_skips + j, 0] = buffer[target]\n",
    "    buffer.append(data[data_index])\n",
    "    data_index = (data_index + 1) % len(data)\n",
    "  return batch, labels\n",
    "\n",
    "batch, labels = generate_batch(batch_size=8, num_skips=2, skip_window=1)\n",
    "for i in range(8):\n",
    "  print batch[i], '->', labels[i, 0]\n",
    "  print reverse_dictionary[batch[i]], '->', reverse_dictionary[labels[i, 0]]"
   ]
  },
  {
   "cell_type": "markdown",
   "metadata": {
    "colab_type": "text",
    "id": "Ofd1MbBuwiva"
   },
   "source": [
    "Train a skip-gram model."
   ]
  },
  {
   "cell_type": "code",
   "execution_count": 6,
   "metadata": {
    "cellView": "both",
    "colab": {
     "autoexec": {
      "startup": false,
      "wait_interval": 0
     }
    },
    "colab_type": "code",
    "collapsed": true,
    "id": "8pQKsV4Vwlzy"
   },
   "outputs": [],
   "source": [
    "batch_size = 128\n",
    "embedding_size = 128 # Dimension of the embedding vector.\n",
    "skip_window = 1 # How many words to consider left and right.\n",
    "num_skips = 2 # How many times to reuse an input to generate a label.\n",
    "# We pick a random validation set to sample nearest neighbors. here we limit the\n",
    "# validation samples to the words that have a low numeric ID, which by\n",
    "# construction are also the most frequent. \n",
    "valid_size = 16 # Random set of words to evaluate similarity on.\n",
    "valid_window = 100 # Only pick dev samples in the head of the distribution.\n",
    "valid_examples = np.array(random.sample(xrange(valid_window), valid_size))\n",
    "num_sampled = 64 # Number of negative examples to sample.\n",
    "\n",
    "graph = tf.Graph()\n",
    "\n",
    "with graph.as_default():\n",
    "\n",
    "  # Input data.\n",
    "  train_dataset = tf.placeholder(tf.int32, shape=[batch_size])\n",
    "  train_labels = tf.placeholder(tf.int32, shape=[batch_size, 1])\n",
    "  valid_dataset = tf.constant(valid_examples, dtype=tf.int32)\n",
    "  \n",
    "  # Variables.\n",
    "  embeddings = tf.Variable(\n",
    "    tf.random_uniform([vocabulary_size, embedding_size], -1.0, 1.0))\n",
    "  softmax_weights = tf.Variable(\n",
    "    tf.truncated_normal([vocabulary_size, embedding_size],\n",
    "                         stddev=1.0 / math.sqrt(embedding_size)))\n",
    "  softmax_biases = tf.Variable(tf.zeros([vocabulary_size]))\n",
    "  \n",
    "  # Model.\n",
    "  # Look up embeddings for inputs.\n",
    "  embed = tf.nn.embedding_lookup(embeddings, train_dataset)\n",
    "  # Compute the softmax loss, using a sample of the negative labels each time.\n",
    "  loss = tf.reduce_mean(\n",
    "    tf.nn.sampled_softmax_loss(softmax_weights, softmax_biases, embed,\n",
    "                               train_labels, num_sampled, vocabulary_size))\n",
    "\n",
    "  # Optimizer.\n",
    "  optimizer = tf.train.AdagradOptimizer(1.0).minimize(loss)\n",
    "  \n",
    "  # Compute the similarity between minibatch examples and all embeddings.\n",
    "  # We use the cosine distance:\n",
    "  norm = tf.sqrt(tf.reduce_sum(tf.square(embeddings), 1, keep_dims=True))\n",
    "  normalized_embeddings = embeddings / norm\n",
    "  valid_embeddings = tf.nn.embedding_lookup(\n",
    "    normalized_embeddings, valid_dataset)\n",
    "  similarity = tf.matmul(valid_embeddings, tf.transpose(normalized_embeddings))"
   ]
  },
  {
   "cell_type": "code",
   "execution_count": 7,
   "metadata": {
    "cellView": "both",
    "colab": {
     "autoexec": {
      "startup": false,
      "wait_interval": 0
     },
     "output_extras": [
      {
       "item_id": 23
      },
      {
       "item_id": 48
      },
      {
       "item_id": 61
      }
     ]
    },
    "colab_type": "code",
    "collapsed": false,
    "executionInfo": {
     "elapsed": 436189,
     "status": "ok",
     "timestamp": 1445965429787,
     "user": {
      "color": "#1FA15D",
      "displayName": "Vincent Vanhoucke",
      "isAnonymous": false,
      "isMe": true,
      "permissionId": "05076109866853157986",
      "photoUrl": "//lh6.googleusercontent.com/-cCJa7dTDcgQ/AAAAAAAAAAI/AAAAAAAACgw/r2EZ_8oYer4/s50-c-k-no/photo.jpg",
      "sessionId": "2f1ffade4c9f20de",
      "userId": "102167687554210253930"
     },
     "user_tz": 420
    },
    "id": "1bQFGceBxrWW",
    "outputId": "5ebd6d9a-33c6-4bcd-bf6d-252b0b6055e4"
   },
   "outputs": [
    {
     "name": "stdout",
     "output_type": "stream",
     "text": [
      "Initialized\n",
      "Average loss at step 0 : 7.74733114243\n",
      "Nearest to six: hazmi, numeral, second, scandals, yoshi, destroy, yeltsin, oxus,\n",
      "Nearest to often: extra, inspiring, legalistic, follows, percussive, precedes, professionally, snapshots,\n",
      "Nearest to history: defenses, ethel, ahijah, lodger, engraved, correlations, breathes, exercise,\n",
      "Nearest to was: embarrassed, marx, cura, workhorse, viral, adventists, homelessness, races,\n",
      "Nearest to from: dictate, anthemius, tended, faintly, spool, marries, npc, cobalt,\n",
      "Nearest to i: knoll, foreknowledge, serious, indulging, janusz, hale, akm, deliberations,\n",
      "Nearest to however: meaningful, integrated, lam, indus, renowned, shale, hangul, kronecker,\n",
      "Nearest to may: contradict, loaned, camped, curium, quagga, gillette, croatians, pdas,\n",
      "Nearest to as: formal, rg, mppc, pipelined, localization, plucked, utah, unsurprisingly,\n",
      "Nearest to called: echolocation, hyphens, canaan, kom, contemporary, ornate, subcategories, administered,\n",
      "Nearest to all: cocktails, keillor, medals, qarase, doherty, exclaims, barbados, fuss,\n",
      "Nearest to but: polisario, dossier, acquisitions, majuro, illegal, interaction, dolphins, mordred,\n",
      "Nearest to th: proprietor, leinster, mitigate, pupil, perdition, suharto, drenched, chianti,\n",
      "Nearest to system: moonlight, whitehouse, speedway, crimes, petro, roanoke, gagarin, beaten,\n",
      "Nearest to there: godf, isabella, conjugal, kernow, mental, ogle, gamemaster, concurrent,\n",
      "Nearest to four: machiavelli, legate, styne, lib, scrupulous, edith, graduate, cloudbusting,\n",
      "Average loss at step 2000 : 4.36050001049\n",
      "Average loss at step 4000 : 3.86183701131\n",
      "Average loss at step 6000 : 3.7887783376\n",
      "Average loss at step 8000 : 3.68366609967\n",
      "Average loss at step 10000 : 3.61751648521\n",
      "Nearest to six: eight, seven, three, four, five, nine, zero, two,\n",
      "Nearest to often: also, precedes, extra, widely, inspiring, he, it, not,\n",
      "Nearest to history: defenses, exercise, basilides, feast, lignite, agora, seafloor, fenian,\n",
      "Nearest to was: is, were, has, had, cond, by, been, be,\n",
      "Nearest to from: at, in, into, on, sihanouk, cloak, drummers, vegetal,\n",
      "Nearest to i: aargau, inca, foreknowledge, graphing, earnestly, indulging, hale, recognized,\n",
      "Nearest to however: hangul, kronecker, during, meaningful, moraine, watching, indus, nearly,\n",
      "Nearest to may: would, can, could, camped, must, arthritis, quagga, powder,\n",
      "Nearest to as: drew, negatives, murals, pacification, by, rp, microlensing, shootout,\n",
      "Nearest to called: lactose, kom, ambiguously, rounders, judaic, seasoning, mad, nasser,\n",
      "Nearest to all: preventative, inapplicable, qarase, seraphim, varanus, clarendon, medals, solves,\n",
      "Nearest to but: trick, nearly, loves, and, irenaeus, airport, wynette, however,\n",
      "Nearest to th: four, fausto, fridays, leinster, sorted, macedon, perdition, anthology,\n",
      "Nearest to system: moonlight, crimes, petro, speedway, whitehouse, ditto, dolls, roanoke,\n",
      "Nearest to there: they, it, murr, not, she, isopropanol, often, claws,\n",
      "Nearest to four: six, three, seven, eight, five, two, nine, zero,\n",
      "Average loss at step 12000 : 3.60496291411\n",
      "Average loss at step 14000 : 3.57449301976\n",
      "Average loss at step 16000 : 3.41143671155\n",
      "Average loss at step 18000 : 3.45902734238\n",
      "Average loss at step 20000 : 3.53521625662\n",
      "Nearest to six: eight, seven, nine, four, five, three, two, zero,\n",
      "Nearest to often: also, widely, extra, who, there, precedes, he, sometimes,\n",
      "Nearest to history: defenses, seafloor, joshua, agora, basilides, mjf, rationalize, glutinous,\n",
      "Nearest to was: is, had, were, has, became, be, are, been,\n",
      "Nearest to from: at, into, expressiveness, in, vitrification, muriel, between, through,\n",
      "Nearest to i: ii, we, inca, aargau, teutoburg, katsura, iii, earnestly,\n",
      "Nearest to however: but, hangul, during, kronecker, dymaxion, watching, internet, and,\n",
      "Nearest to may: can, would, could, will, must, might, should, parallelism,\n",
      "Nearest to as: cabral, oops, pacification, narrating, emmett, by, dlp, rp,\n",
      "Nearest to called: lactose, mad, ambiguously, imaging, nasser, seasoning, championships, guerillas,\n",
      "Nearest to all: many, some, several, inapplicable, solves, those, headaches, tegmark,\n",
      "Nearest to but: however, and, is, which, that, or, would, are,\n",
      "Nearest to th: fausto, acetylcholine, fridays, shipping, mm, multics, macedon, sorted,\n",
      "Nearest to system: ditto, crimes, quo, petro, misidentification, moonlight, whitehouse, artificial,\n",
      "Nearest to there: it, they, he, which, often, button, she, greaves,\n",
      "Nearest to four: three, six, seven, eight, five, two, nine, one,\n",
      "Average loss at step 22000 : 3.50573488361\n",
      "Average loss at step 24000 : 3.49012978911\n",
      "Average loss at step 26000 : 3.48640610874\n",
      "Average loss at step 28000 : 3.47965462893\n",
      "Average loss at step 30000 : 3.50235926777\n",
      "Nearest to six: four, eight, seven, five, three, nine, two, zero,\n",
      "Nearest to often: widely, sometimes, also, precedes, there, generally, still, now,\n",
      "Nearest to history: seafloor, agora, defenses, bleeding, rationalize, glutinous, fenian, joshua,\n",
      "Nearest to was: is, had, were, has, became, been, when, be,\n",
      "Nearest to from: into, through, in, during, on, oswaldo, across, under,\n",
      "Nearest to i: we, ii, aargau, they, iii, hadassah, teutoburg, inca,\n",
      "Nearest to however: but, and, which, during, hangul, that, kronecker, when,\n",
      "Nearest to may: can, would, could, will, must, might, should, although,\n",
      "Nearest to as: pacification, emmett, celeste, by, elastic, reynard, emphasizes, exhibiting,\n",
      "Nearest to called: lactose, imaging, mad, ambiguously, eurasian, seasoning, kalmar, murrow,\n",
      "Nearest to all: some, these, many, several, clarendon, atlanteans, those, dich,\n",
      "Nearest to but: however, and, though, when, that, which, or, while,\n",
      "Nearest to th: bc, mm, fausto, multics, shipping, acetylcholine, fridays, eight,\n",
      "Nearest to system: systems, archer, ditto, quo, whitehouse, separates, kenning, dictating,\n",
      "Nearest to there: they, it, he, often, she, this, still, button,\n",
      "Nearest to four: five, six, three, eight, seven, two, nine, one,\n",
      "Average loss at step 32000 : 3.50074583721\n",
      "Average loss at step 34000 : 3.49189666724\n",
      "Average loss at step 36000 : 3.45647158682\n",
      "Average loss at step 38000 : 3.29917961174\n",
      "Average loss at step 40000 : 3.42598986757\n",
      "Nearest to six: four, seven, eight, five, three, nine, two, one,\n",
      "Nearest to often: widely, sometimes, also, generally, usually, frequently, commonly, still,\n",
      "Nearest to history: agora, basilides, glutinous, seafloor, rix, papen, joshua, uncanny,\n",
      "Nearest to was: is, had, became, were, has, been, did, being,\n",
      "Nearest to from: through, into, of, in, during, gladio, sopranos, after,\n",
      "Nearest to i: we, you, ii, they, t, aargau, inca, expunged,\n",
      "Nearest to however: but, that, though, vicksburg, ak, although, it, statistic,\n",
      "Nearest to may: can, would, could, will, must, might, should, although,\n",
      "Nearest to as: by, better, hussars, pear, diplomatic, when, unresponsive, freely,\n",
      "Nearest to called: lactose, imaging, considered, formosa, judaic, healthcare, tsim, mad,\n",
      "Nearest to all: these, dich, causation, many, some, sustenance, atlanteans, each,\n",
      "Nearest to but: however, and, although, it, are, he, see, that,\n",
      "Nearest to th: bc, multics, fausto, cm, mm, acetylcholine, peak, beaten,\n",
      "Nearest to system: systems, mannerheim, immunoglobulins, archer, surpassed, kenning, phobos, advent,\n",
      "Nearest to there: they, it, he, often, now, she, also, who,\n",
      "Nearest to four: six, five, eight, seven, three, two, nine, one,\n",
      "Average loss at step 42000 : 3.43068783361\n",
      "Average loss at step 44000 : 3.44958059001\n",
      "Average loss at step 46000 : 3.45170159447\n",
      "Average loss at step 48000 : 3.35055111641\n",
      "Average loss at step 50000 : 3.3775735321\n",
      "Nearest to six: eight, seven, four, three, five, nine, two, one,\n",
      "Nearest to often: sometimes, widely, generally, also, frequently, usually, commonly, now,\n",
      "Nearest to history: papen, rix, djinn, agora, uncanny, glutinous, mjf, breathes,\n",
      "Nearest to was: is, has, were, became, had, seems, be, been,\n",
      "Nearest to from: through, into, after, during, in, at, across, iib,\n",
      "Nearest to i: we, you, ii, aargau, exclusivity, inca, iii, t,\n",
      "Nearest to however: but, when, while, though, although, that, during, and,\n",
      "Nearest to may: can, would, could, will, must, should, might, cannot,\n",
      "Nearest to as: by, exhibiting, emmett, disobey, microlensing, zed, learners, became,\n",
      "Nearest to called: lactose, mad, imaging, named, dalton, ore, healthcare, hague,\n",
      "Nearest to all: each, some, many, dich, every, both, those, any,\n",
      "Nearest to but: however, although, and, when, while, though, where, until,\n",
      "Nearest to th: bc, multics, five, mm, mitigate, st, fausto, cm,\n",
      "Nearest to system: systems, archer, kenning, immunoglobulins, zooming, pogrom, michelson, palliative,\n",
      "Nearest to there: they, it, he, she, who, now, often, we,\n",
      "Nearest to four: six, three, seven, eight, five, nine, two, zero,\n",
      "Average loss at step 52000 : 3.44253816271\n",
      "Average loss at step 54000 : 3.42357444042\n",
      "Average loss at step 56000 : 3.43862233436\n",
      "Average loss at step 58000 : 3.3963695901\n",
      "Average loss at step 60000 : 3.3921213775\n",
      "Nearest to six: four, eight, five, seven, nine, three, two, zero,\n",
      "Nearest to often: sometimes, generally, widely, frequently, usually, also, commonly, now,\n",
      "Nearest to history: journal, development, papen, milner, rix, djinn, list, fundamental,\n",
      "Nearest to was: is, had, became, were, has, seems, been, be,\n",
      "Nearest to from: into, through, during, in, sopranos, after, across, syncopated,\n",
      "Nearest to i: we, you, ii, t, they, inca, aargau, g,\n",
      "Nearest to however: but, although, though, that, when, which, while, during,\n",
      "Nearest to may: can, would, could, will, should, must, might, cannot,\n",
      "Nearest to as: exhibiting, cogent, dissolves, macros, zed, authentic, spaghetti, cabral,\n",
      "Nearest to called: used, lactose, considered, mad, healthcare, dominant, minestrone, tsim,\n",
      "Nearest to all: many, some, each, those, these, both, any, various,\n",
      "Nearest to but: however, and, although, which, though, while, see, when,\n",
      "Nearest to th: bc, multics, four, cm, five, ad, nd, rd,\n",
      "Nearest to system: systems, network, group, zooming, immunoglobulins, mannerheim, astrological, gallant,\n",
      "Nearest to there: they, it, now, he, she, this, we, still,\n",
      "Nearest to four: six, five, seven, three, eight, nine, two, zero,\n",
      "Average loss at step 62000 : 3.23762752998\n",
      "Average loss at step 64000 : 3.25394991755\n",
      "Average loss at step 66000 : 3.40291905105\n",
      "Average loss at step 68000 : 3.39065775722\n",
      "Average loss at step 70000 : 3.35721546137\n",
      "Nearest to six: eight, seven, four, nine, five, three, two, zero,\n",
      "Nearest to often: sometimes, frequently, usually, commonly, generally, now, widely, also,\n",
      "Nearest to history: rix, milner, list, journal, connexion, papen, djinn, uncanny,\n",
      "Nearest to was: is, has, became, had, were, when, been, be,\n",
      "Nearest to from: through, into, across, between, during, in, within, iib,\n",
      "Nearest to i: we, you, ii, g, exclusivity, carrey, they, hadassah,\n",
      "Nearest to however: but, although, though, while, that, when, where, which,\n",
      "Nearest to may: can, would, could, will, must, should, might, cannot,\n",
      "Nearest to as: by, unresponsive, when, like, is, before, dlp, thorough,\n",
      "Nearest to called: lactose, mad, considered, minestrone, used, ghulam, kept, hague,\n",
      "Nearest to all: many, some, various, any, both, every, these, each,\n",
      "Nearest to but: however, and, although, though, which, while, that, or,\n",
      "Nearest to th: bc, multics, ad, rd, bce, cm, st, ce,\n",
      "Nearest to system: systems, mannerheim, zooming, group, immunoglobulins, admits, kenning, network,\n",
      "Nearest to there: they, it, now, he, she, we, still, this,\n",
      "Nearest to four: six, seven, eight, five, three, nine, two, zero,\n",
      "Average loss at step 72000 : 3.37139070928\n",
      "Average loss at step 74000 : 3.35036020774\n",
      "Average loss at step 76000 : 3.31517776144\n",
      "Average loss at step 78000 : 3.35513249722\n",
      "Average loss at step 80000 : 3.3776724962\n",
      "Nearest to six: five, eight, seven, four, nine, three, two, zero,\n",
      "Nearest to often: sometimes, frequently, usually, commonly, generally, widely, typically, now,\n",
      "Nearest to history: rix, survey, connexion, milner, list, journal, regardless, djinn,\n",
      "Nearest to was: is, were, became, had, has, been, be, being,\n",
      "Nearest to from: through, into, across, around, during, iib, within, by,\n",
      "Nearest to i: you, we, ii, g, iii, t, lee, iv,\n",
      "Nearest to however: but, although, that, while, though, when, and, currently,\n",
      "Nearest to may: can, could, would, will, must, should, might, cannot,\n",
      "Nearest to as: when, unresponsive, interfering, cabral, warship, before, fourths, dirac,\n",
      "Nearest to called: considered, lactose, used, mad, formosa, minestrone, known, hus,\n",
      "Nearest to all: both, every, each, various, many, dich, some, any,\n",
      "Nearest to but: however, although, though, and, while, they, which, or,\n",
      "Nearest to th: bc, multics, rd, ad, st, bce, five, nd,\n",
      "Nearest to system: systems, mannerheim, kampaku, admits, immunoglobulins, pogrom, epicenter, astrological,\n",
      "Nearest to there: they, it, he, she, still, often, we, currently,\n",
      "Nearest to four: six, five, eight, three, seven, nine, two, zero,\n",
      "Average loss at step 82000 : 3.40933198977\n",
      "Average loss at step 84000 : 3.41235718811\n",
      "Average loss at step 86000 : 3.38808333994\n",
      "Average loss at step 88000 : 3.35123853177\n",
      "Average loss at step 90000 : 3.36252585894\n",
      "Nearest to six: eight, five, seven, four, nine, three, two, zero,\n",
      "Nearest to often: sometimes, usually, frequently, commonly, generally, typically, widely, now,\n",
      "Nearest to history: rix, djinn, regardless, list, workgroups, tradition, consisting, journal,\n",
      "Nearest to was: is, became, had, were, has, be, been, seems,\n",
      "Nearest to from: through, across, into, during, iib, without, auras, under,\n",
      "Nearest to i: we, you, g, ii, iv, t, iii, exclusivity,\n",
      "Nearest to however: but, although, though, that, while, which, cases, pigmented,\n",
      "Nearest to may: can, could, would, will, should, must, might, cannot,\n",
      "Nearest to as: deanna, disobey, resold, myanmar, nieuwe, emmett, tert, pacification,\n",
      "Nearest to called: considered, used, lactose, formosa, named, mad, known, kept,\n",
      "Nearest to all: many, both, several, every, some, each, various, these,\n",
      "Nearest to but: however, although, and, though, while, they, until, which,\n",
      "Nearest to th: bc, multics, rd, ad, fifth, one, bce, nd,\n",
      "Nearest to system: systems, program, model, mannerheim, tice, line, tiamat, conditions,\n",
      "Nearest to there: it, they, he, still, we, she, now, currently,\n",
      "Nearest to four: five, six, seven, eight, three, two, nine, zero,\n",
      "Average loss at step 92000 : 3.39632817602\n",
      "Average loss at step 94000 : 3.24911082464\n",
      "Average loss at step 96000 : 3.35330440253\n",
      "Average loss at step 98000 : 3.24368149039\n",
      "Average loss at step 100000 : 3.36106535047\n",
      "Nearest to six: four, seven, five, eight, nine, three, two, zero,\n",
      "Nearest to often: sometimes, usually, frequently, commonly, generally, typically, widely, now,\n",
      "Nearest to history: rix, philosophical, medieval, workgroups, consisting, survey, list, argyle,\n",
      "Nearest to was: is, became, had, were, has, been, seems, appears,\n",
      "Nearest to from: through, across, into, during, in, perez, iib, typhoon,\n",
      "Nearest to i: we, you, ii, t, exclusivity, g, they, iii,\n",
      "Nearest to however: but, although, that, though, especially, and, alderman, which,\n",
      "Nearest to may: can, could, would, will, should, must, might, cannot,\n",
      "Nearest to as: like, deanna, cabral, elastic, herold, hussars, perturbed, ibu,\n",
      "Nearest to called: named, lactose, used, considered, ghulam, mad, formosa, known,\n",
      "Nearest to all: every, various, these, several, both, many, some, any,\n",
      "Nearest to but: however, although, and, though, while, noticed, did, that,\n",
      "Nearest to th: bc, rd, nd, multics, fifth, st, bce, ad,\n",
      "Nearest to system: systems, model, program, computing, samara, network, mannerheim, project,\n",
      "Nearest to there: they, we, he, it, now, still, she, sometimes,\n",
      "Nearest to four: six, seven, five, eight, three, nine, two, zero,\n"
     ]
    }
   ],
   "source": [
    "num_steps = 100001\n",
    "\n",
    "with tf.Session(graph=graph) as session:\n",
    "  tf.initialize_all_variables().run()\n",
    "  print \"Initialized\"\n",
    "  average_loss = 0\n",
    "  for step in xrange(num_steps):\n",
    "    batch_data, batch_labels = generate_batch(\n",
    "      batch_size, num_skips, skip_window)\n",
    "    feed_dict = {train_dataset : batch_data, train_labels : batch_labels}\n",
    "    _, l = session.run([optimizer, loss], feed_dict=feed_dict)\n",
    "    average_loss += l\n",
    "    if step % 2000 == 0:\n",
    "      if step > 0:\n",
    "        average_loss = average_loss / 2000\n",
    "      # The average loss is an estimate of the loss over the last 2000 batches.\n",
    "      print \"Average loss at step\", step, \":\", average_loss\n",
    "      average_loss = 0\n",
    "    # note that this is expensive (~20% slowdown if computed every 500 steps)\n",
    "    if step % 10000 == 0:\n",
    "      sim = similarity.eval()\n",
    "      for i in xrange(valid_size):\n",
    "        valid_word = reverse_dictionary[valid_examples[i]]\n",
    "        top_k = 8 # number of nearest neighbors\n",
    "        nearest = (-sim[i, :]).argsort()[1:top_k+1]\n",
    "        log = \"Nearest to %s:\" % valid_word\n",
    "        for k in xrange(top_k):\n",
    "          close_word = reverse_dictionary[nearest[k]]\n",
    "          log = \"%s %s,\" % (log, close_word)\n",
    "        print log\n",
    "  final_embeddings = normalized_embeddings.eval()"
   ]
  },
  {
   "cell_type": "code",
   "execution_count": 8,
   "metadata": {
    "cellView": "both",
    "colab": {
     "autoexec": {
      "startup": false,
      "wait_interval": 0
     }
    },
    "colab_type": "code",
    "collapsed": false,
    "id": "jjJXYA_XzV79"
   },
   "outputs": [
    {
     "ename": "NameError",
     "evalue": "name 'TSNE' is not defined",
     "output_type": "error",
     "traceback": [
      "\u001b[1;31m---------------------------------------------------------------------------\u001b[0m",
      "\u001b[1;31mNameError\u001b[0m                                 Traceback (most recent call last)",
      "\u001b[1;32m<ipython-input-8-f70c03698d67>\u001b[0m in \u001b[0;36m<module>\u001b[1;34m()\u001b[0m\n\u001b[0;32m      1\u001b[0m \u001b[0mnum_points\u001b[0m \u001b[1;33m=\u001b[0m \u001b[1;36m400\u001b[0m\u001b[1;33m\u001b[0m\u001b[0m\n\u001b[0;32m      2\u001b[0m \u001b[1;33m\u001b[0m\u001b[0m\n\u001b[1;32m----> 3\u001b[1;33m \u001b[0mtsne\u001b[0m \u001b[1;33m=\u001b[0m \u001b[0mTSNE\u001b[0m\u001b[1;33m(\u001b[0m\u001b[0mperplexity\u001b[0m\u001b[1;33m=\u001b[0m\u001b[1;36m30\u001b[0m\u001b[1;33m,\u001b[0m \u001b[0mn_components\u001b[0m\u001b[1;33m=\u001b[0m\u001b[1;36m2\u001b[0m\u001b[1;33m,\u001b[0m \u001b[0minit\u001b[0m\u001b[1;33m=\u001b[0m\u001b[1;34m'pca'\u001b[0m\u001b[1;33m,\u001b[0m \u001b[0mn_iter\u001b[0m\u001b[1;33m=\u001b[0m\u001b[1;36m5000\u001b[0m\u001b[1;33m)\u001b[0m\u001b[1;33m\u001b[0m\u001b[0m\n\u001b[0m\u001b[0;32m      4\u001b[0m \u001b[0mtwo_d_embeddings\u001b[0m \u001b[1;33m=\u001b[0m \u001b[0mtsne\u001b[0m\u001b[1;33m.\u001b[0m\u001b[0mfit_transform\u001b[0m\u001b[1;33m(\u001b[0m\u001b[0mfinal_embeddings\u001b[0m\u001b[1;33m[\u001b[0m\u001b[1;36m1\u001b[0m\u001b[1;33m:\u001b[0m\u001b[0mnum_points\u001b[0m\u001b[1;33m+\u001b[0m\u001b[1;36m1\u001b[0m\u001b[1;33m,\u001b[0m \u001b[1;33m:\u001b[0m\u001b[1;33m]\u001b[0m\u001b[1;33m)\u001b[0m\u001b[1;33m\u001b[0m\u001b[0m\n",
      "\u001b[1;31mNameError\u001b[0m: name 'TSNE' is not defined"
     ]
    }
   ],
   "source": [
    "num_points = 400\n",
    "\n",
    "tsne = TSNE(perplexity=30, n_components=2, init='pca', n_iter=5000)\n",
    "two_d_embeddings = tsne.fit_transform(final_embeddings[1:num_points+1, :])"
   ]
  },
  {
   "cell_type": "code",
   "execution_count": null,
   "metadata": {
    "cellView": "both",
    "colab": {
     "autoexec": {
      "startup": false,
      "wait_interval": 0
     },
     "output_extras": [
      {
       "item_id": 1
      }
     ]
    },
    "colab_type": "code",
    "collapsed": false,
    "executionInfo": {
     "elapsed": 4763,
     "status": "ok",
     "timestamp": 1445965465525,
     "user": {
      "color": "#1FA15D",
      "displayName": "Vincent Vanhoucke",
      "isAnonymous": false,
      "isMe": true,
      "permissionId": "05076109866853157986",
      "photoUrl": "//lh6.googleusercontent.com/-cCJa7dTDcgQ/AAAAAAAAAAI/AAAAAAAACgw/r2EZ_8oYer4/s50-c-k-no/photo.jpg",
      "sessionId": "2f1ffade4c9f20de",
      "userId": "102167687554210253930"
     },
     "user_tz": 420
    },
    "id": "o_e0D_UezcDe",
    "outputId": "df22e4a5-e8ec-4e5e-d384-c6cf37c68c34"
   },
   "outputs": [],
   "source": [
    "def plot(embeddings, labels):\n",
    "  assert embeddings.shape[0] >= len(labels), 'More labels than embeddings'\n",
    "  pylab.figure(figsize=(15,15))  # in inches\n",
    "  for i, label in enumerate(labels):\n",
    "    x, y = embeddings[i,:]\n",
    "    pylab.scatter(x, y)\n",
    "    pylab.annotate(label, xy=(x, y), xytext=(5, 2), textcoords='offset points',\n",
    "                   ha='right', va='bottom')\n",
    "  pylab.show()\n",
    "\n",
    "words = [reverse_dictionary[i] for i in xrange(1, num_points+1)]\n",
    "plot(two_d_embeddings, words)"
   ]
  },
  {
   "cell_type": "markdown",
   "metadata": {
    "colab_type": "text",
    "id": "QB5EFrBnpNnc"
   },
   "source": [
    "---\n",
    "\n",
    "Problem\n",
    "-------\n",
    "\n",
    "An alternative to Word2Vec is called [CBOW](http://arxiv.org/abs/1301.3781) (Continuous Bag of Words). In the CBOW model, instead of predicting a context word from a word vector, you predict a word from the sum of all the word vectors in its context. Implement and evaluate a CBOW model trained on the text8 dataset.\n",
    "\n",
    "---"
   ]
  }
 ],
 "metadata": {
  "colab": {
   "default_view": {},
   "name": "5_word2vec.ipynb",
   "version": "0.3.2",
   "views": {}
  },
  "kernelspec": {
   "display_name": "Python 2",
   "language": "python",
   "name": "python2"
  },
  "language_info": {
   "codemirror_mode": {
    "name": "ipython",
    "version": 2
   },
   "file_extension": ".py",
   "mimetype": "text/x-python",
   "name": "python",
   "nbconvert_exporter": "python",
   "pygments_lexer": "ipython2",
   "version": "2.7.6"
  }
 },
 "nbformat": 4,
 "nbformat_minor": 0
}
