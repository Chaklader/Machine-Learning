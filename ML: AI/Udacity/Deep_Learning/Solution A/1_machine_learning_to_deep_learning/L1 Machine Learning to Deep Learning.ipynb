{
 "cells": [
  {
   "cell_type": "markdown",
   "metadata": {},
   "source": [
    "# Table of Contents\n",
    "* [Supervised Classification](#Supervised-Classification)\n",
    "* [Classification for Dectection](#Classification-for-Dectection)\n",
    "* [Classification for Dectection](#Classification-for-Dectection)\n",
    "* [Training Your Logistic Classifier](#Training-Your-Logistic-Classifier)\n",
    "* [Softmax Q](#Softmax-Q)\n"
   ]
  },
  {
   "cell_type": "markdown",
   "metadata": {},
   "source": [
    "# Supervised Classification"
   ]
  },
  {
   "cell_type": "markdown",
   "metadata": {},
   "source": [
    "- Classification is the task that taking an input and give it a label\n",
    "- Classification or marginally prediction is the central building block of machine learning."
   ]
  },
  {
   "cell_type": "markdown",
   "metadata": {},
   "source": [
    "<img src=\"images/pic01.png\">\n",
    "\n",
    "*Screenshot taken from [Udacity](https://www.udacity.com/course/viewer#!/c-ud730/l-6370362152/m-6379811818)*\n",
    "\n",
    "<!--TEASER_END-->"
   ]
  },
  {
   "cell_type": "markdown",
   "metadata": {},
   "source": [
    "# Classification for Dectection"
   ]
  },
  {
   "cell_type": "markdown",
   "metadata": {},
   "source": [
    "Let's take an example the task of detection: Imagine you have a camera looking at the street ahead, and you want to detect where the pedestrians are in front of you so that you don't hit them. How would you use a classifier to do that?\n",
    "- A typical method is to run a binary classifier over different areas of an image, so a classifier that classifies small patches of the image into 2 classes: pedestrians or no pedestrians, and mark the areas with a positive label as detected instances."
   ]
  },
  {
   "cell_type": "markdown",
   "metadata": {},
   "source": [
    "<img src=\"images/pic02.png\">\n",
    "\n",
    "*Screenshot taken from [Udacity](https://www.udacity.com/course/viewer#!/c-ud730/l-6370362152/e-6406301860/m-6400212309)*\n",
    "\n",
    "<!--TEASER_END-->"
   ]
  },
  {
   "cell_type": "markdown",
   "metadata": {},
   "source": [
    "# Classification for Ranking"
   ]
  },
  {
   "cell_type": "markdown",
   "metadata": {},
   "source": [
    "Here's another example of web search ranking: Imagine you have a search query and you want to find all the web pages on the web that are relevant for that query. How would you use a classifier to do that?\n",
    "- There are several ways of doing this - one is to classify pairs of (<query>, <web page>) and output one of two classes: relevant/not relevant."
   ]
  },
  {
   "cell_type": "markdown",
   "metadata": {},
   "source": [
    "<img src=\"images/pic03.png\">\n",
    "\n",
    "*Screenshot taken from [Udacity](https://www.udacity.com/course/viewer#!/c-ud730/l-6370362152/e-6375271973/m-6382633324)*\n",
    "\n",
    "<!--TEASER_END-->"
   ]
  },
  {
   "cell_type": "markdown",
   "metadata": {},
   "source": [
    "# Training Your Logistic Classifier"
   ]
  },
  {
   "cell_type": "markdown",
   "metadata": {},
   "source": [
    "Let's get started training a logistic classifier \n",
    "- A logistic classifier is what's called a linear classifier that takes the input for example the pixels in the image and applies a linear fashion to them to generate its predictions \n",
    "- A linear function is just adjacent matrix multiply, it takes all the inputs as a big vector that will denote X and multiplies them with a matrix to generate its predictions 1 per output class \n",
    "- We will denote the inputs by X, the weights by W and the bias term by b. The weight of the matrix and the bias is where the machine learning comes in. We're going to train that model that means we're going to try to find the values for the weights and biases which are good at performing those predictions "
   ]
  },
  {
   "cell_type": "markdown",
   "metadata": {},
   "source": [
    "<img src=\"images/pic04.png\">\n",
    "\n",
    "*Screenshot taken from [Udacity](https://www.udacity.com/course/viewer#!/c-ud730/l-6370362152/m-6379811820)*\n",
    "\n",
    "<!--TEASER_END-->"
   ]
  },
  {
   "cell_type": "markdown",
   "metadata": {},
   "source": [
    "How are we going to use the scores to perform the classification? Each image that we have as an input can have one and only one possible label so we're going to turn the scores into probabilities. We're going to launch the probability of the correct class to be very close to one and a property for every other class to be close to zero "
   ]
  },
  {
   "cell_type": "markdown",
   "metadata": {},
   "source": [
    "<img src=\"images/pic05.png\">\n",
    "\n",
    "*Screenshot taken from [Udacity](https://www.udacity.com/course/viewer#!/c-ud730/l-6370362152/m-6379811820)*\n",
    "\n",
    "<!--TEASER_END-->"
   ]
  },
  {
   "cell_type": "markdown",
   "metadata": {},
   "source": [
    "The way to turn scores into probabilities is to use the softmax function:\n",
    "$$S(y_i) = \\frac{e^{y_i}}{\\sum_j e^{y_i}}$$\n",
    "\n",
    "What's important to know is that it it can take any kind of scores and turn them into proper probabilities. Probabilities sum to one and there will be large when the scores are large and small when the scores are comparatively smaller. Scores in the context of logistic regression are often also called \"logits\""
   ]
  },
  {
   "cell_type": "markdown",
   "metadata": {},
   "source": [
    "<img src=\"images/pic06.png\">\n",
    "\n",
    "*Screenshot taken from [Udacity](https://www.udacity.com/course/viewer#!/c-ud730/l-6370362152/m-6379811820)*\n",
    "\n",
    "<!--TEASER_END-->"
   ]
  },
  {
   "cell_type": "markdown",
   "metadata": {},
   "source": [
    "# Softmax Q"
   ]
  },
  {
   "cell_type": "markdown",
   "metadata": {},
   "source": [
    "Here's an example solution we take the exponential of the scores and we divide by the sum of the exponential of the scores across the other categories.\n",
    "\n",
    "Here is the result, notice that the probabilities do sum to 1. Let's add some legends to make this a bit more clear, as you can see the probability of the class 1 increases with the score X it starts near zero and close to one at the same time the probabilities of the other classes start pretty high but then go down to 0."
   ]
  },
  {
   "cell_type": "code",
   "execution_count": 3,
   "metadata": {
    "collapsed": false
   },
   "outputs": [
    {
     "name": "stdout",
     "output_type": "stream",
     "text": [
      "[ 0.8360188   0.11314284  0.05083836]\n"
     ]
    },
    {
     "data": {
      "image/png": "[encoded data removed]",
      "text/plain": [
       "<matplotlib.figure.Figure at 0xabc3080>"
      ]
     },
     "metadata": {},
     "output_type": "display_data"
    }
   ],
   "source": [
    "# %load softmax.py\n",
    "\"\"\"Softmax.\"\"\"\n",
    "# https://en.wikipedia.org/wiki/Softmax_function\n",
    "%matplotlib inline\n",
    "\n",
    "scores = [3.0, 1.0, 0.2]\n",
    "\n",
    "import numpy as np\n",
    "\n",
    "def softmax(x):\n",
    "    \"\"\"Compute softmax values for each sets of scores in x.\"\"\"\n",
    "    return np.exp(x) / np.sum(np.exp(x), axis=0)\n",
    "\n",
    "print(softmax(scores))\n",
    "\n",
    "# Plot softmax curves\n",
    "import matplotlib.pyplot as plt\n",
    "x = np.arange(-2.0, 6.0, 0.1)\n",
    "scores = np.vstack([x, np.ones_like(x), 0.2 * np.ones_like(x)])\n",
    "\n",
    "plt.plot(x, softmax(scores).T, linewidth=2)\n",
    "plt.show()\n"
   ]
  },
  {
   "cell_type": "markdown",
   "metadata": {},
   "source": [
    "** If you multiple the score by 10, what happens?**"
   ]
  },
  {
   "cell_type": "code",
   "execution_count": 13,
   "metadata": {
    "collapsed": false
   },
   "outputs": [
    {
     "name": "stdout",
     "output_type": "stream",
     "text": [
      "[ 0.08360188  0.01131428  0.00508384  0.08360188  0.01131428  0.00508384\n",
      "  0.08360188  0.01131428  0.00508384  0.08360188  0.01131428  0.00508384\n",
      "  0.08360188  0.01131428  0.00508384  0.08360188  0.01131428  0.00508384\n",
      "  0.08360188  0.01131428  0.00508384  0.08360188  0.01131428  0.00508384\n",
      "  0.08360188  0.01131428  0.00508384  0.08360188  0.01131428  0.00508384]\n"
     ]
    }
   ],
   "source": [
    "scores = [3.0, 1.0, 0.2]\n",
    "print(softmax(scores * 10))"
   ]
  },
  {
   "cell_type": "markdown",
   "metadata": {},
   "source": [
    "**If you mulitply the scores by 10, the scores get either very close to 1.0 or very small.**"
   ]
  },
  {
   "cell_type": "markdown",
   "metadata": {},
   "source": [
    "<img src=\"images/pic07.png\">\n",
    "\n",
    "*Screenshot taken from [Udacity](https://www.udacity.com/course/viewer#!/c-ud730/l-6370362152/e-6374172139/m-6473358789)*\n",
    "\n",
    "<!--TEASER_END-->"
   ]
  },
  {
   "cell_type": "markdown",
   "metadata": {},
   "source": [
    "**If you devide the score by 10, what happens?**"
   ]
  },
  {
   "cell_type": "markdown",
   "metadata": {},
   "source": [
    "<img src=\"images/pic08.png\">\n",
    "\n",
    "*Screenshot taken from [Udacity](https://www.udacity.com/course/viewer#!/c-ud730/l-6370362152/e-6397571319/m-6377162118)*\n",
    "\n",
    "<!--TEASER_END-->"
   ]
  },
  {
   "cell_type": "markdown",
   "metadata": {},
   "source": [
    "# One-Hot Encoding"
   ]
  },
  {
   "cell_type": "markdown",
   "metadata": {},
   "source": [
    "If you increase the size of your outputs, your classifier becomes very confident about its predictions but if you reduce the size of your outputs, classifier becomes very ensure. Keep this in mind for later we want a classifier to not be too sure itself in the beginning and then over time it will gain confidence as it learns"
   ]
  },
  {
   "cell_type": "markdown",
   "metadata": {},
   "source": [
    "<img src=\"images/pic09.png\">\n",
    "\n",
    "*Screenshot taken from [Udacity](https://www.udacity.com/course/viewer#!/c-ud730/l-6370362152/m-6379811824)*\n",
    "\n",
    "<!--TEASER_END-->"
   ]
  },
  {
   "cell_type": "markdown",
   "metadata": {},
   "source": [
    "Next we need a way to represent our labels mathematically. We just said let's have the probabilities for the correct class be close to one and the probability for all the others be close to zero we can write down exactly that:\n",
    "- Each label will be represented by a vector that is as long as their classes and it has the value 1.0 for the correct class and 0 everywhere else. This is often called **one-hot encoding**"
   ]
  },
  {
   "cell_type": "markdown",
   "metadata": {},
   "source": [
    "<img src=\"images/pic10.png\">\n",
    "\n",
    "*Screenshot taken from [Udacity](https://www.udacity.com/course/viewer#!/c-ud730/l-6370362152/e-6371351051/m-6373302055)*\n",
    "\n",
    "<!--TEASER_END-->"
   ]
  },
  {
   "cell_type": "markdown",
   "metadata": {},
   "source": [
    "For a consistent one hot including we need to pick ones such that each class gets a unique position on the vector. Here's what I picked given this including the most likely classes is C."
   ]
  },
  {
   "cell_type": "markdown",
   "metadata": {},
   "source": [
    "<img src=\"images/pic11.png\">\n",
    "\n",
    "*Screenshot taken from [Udacity](https://www.udacity.com/course/viewer#!/c-ud730/l-6370362152/e-6371351051/m-6378892059)*\n",
    "\n",
    "<!--TEASER_END-->"
   ]
  },
  {
   "cell_type": "markdown",
   "metadata": {},
   "source": [
    "# Cross Entropy"
   ]
  },
  {
   "cell_type": "markdown",
   "metadata": {},
   "source": [
    "One-hot encoding works very well for most problems until you get into situations where you have tens of thousands or even millions of classes. In that case your vector becomes really really large and as mostly zero everywhere and that becomes very inefficient.\n",
    "\n",
    "You'll see later how we can deal with this problems by using embeddings. "
   ]
  },
  {
   "cell_type": "markdown",
   "metadata": {},
   "source": [
    "<img src=\"images/pic12.png\">\n",
    "\n",
    "*Screenshot taken from [Udacity](https://www.udacity.com/course/viewer#!/c-ud730/l-6370362152/m-6379811826)*\n",
    "\n",
    "<!--TEASER_END-->"
   ]
  },
  {
   "cell_type": "markdown",
   "metadata": {},
   "source": [
    "What's nice about this approach is that we can now measure how well we're doing by simply comparing two vectors: one that comes out of your classifiers and contains the probabilities of your classes and the one-hot enconding vector that corresponds to your labels."
   ]
  },
  {
   "cell_type": "markdown",
   "metadata": {},
   "source": [
    "<img src=\"images/pic13.png\">\n",
    "\n",
    "*Screenshot taken from [Udacity](https://www.udacity.com/course/viewer#!/c-ud730/l-6370362152/m-6379811826)*\n",
    "\n",
    "<!--TEASER_END-->"
   ]
  },
  {
   "cell_type": "markdown",
   "metadata": {},
   "source": [
    "**Let's see how we can do this in practice.**\n",
    "\n",
    "The natural way to measure the distance between those two probability vectors is called the **cross entropy** denoted by D here for distance:\n",
    "\n",
    "$$D(S,L) = - \\sum_i L_i log(S_i)$$\n",
    "\n",
    "Be careful! The cross entropy is not symmetric and you have a nasty log in there so you have to make sure that your labels and your distributions are in the right place \n",
    "- Your labels because they are one hot encoded will have a lot of zeros in them and you don't want that to take the log of zero - For your distribution the softmax will always guarantee that you have a little bit of probability going everywhere so you never really take a log of zero."
   ]
  },
  {
   "cell_type": "markdown",
   "metadata": {},
   "source": [
    "<img src=\"images/pic14.png\">\n",
    "\n",
    "*Screenshot taken from [Udacity](https://www.udacity.com/course/viewer#!/c-ud730/l-6370362152/m-6379811826)*\n",
    "\n",
    "<!--TEASER_END-->"
   ]
  },
  {
   "cell_type": "markdown",
   "metadata": {},
   "source": [
    "**Let's recap because we have a lot of pieces**\n",
    "\n",
    "- So we have inputs, which are going to be turned into \"Logit\", using a linear model which is basically a matrix multiply and a bias \n",
    "- We are then going to feed the logit which are scores into a soft max to turn them into probabilities \n",
    "- Then we're going to compare those probabilities to the one hot encoding labels using the cross entropy function "
   ]
  },
  {
   "cell_type": "markdown",
   "metadata": {},
   "source": [
    "<img src=\"images/pic15.png\">\n",
    "\n",
    "*Screenshot taken from [Udacity](https://www.udacity.com/course/viewer#!/c-ud730/l-6370362152/m-6379811826)*\n",
    "\n",
    "<!--TEASER_END-->"
   ]
  },
  {
   "cell_type": "markdown",
   "metadata": {},
   "source": [
    "**This entire setting is often called multinomial logistic classification**"
   ]
  },
  {
   "cell_type": "markdown",
   "metadata": {},
   "source": [
    "<img src=\"images/pic16.png\">\n",
    "\n",
    "*Screenshot taken from [Udacity](https://www.udacity.com/course/viewer#!/c-ud730/l-6370362152/m-6379811826)*\n",
    "\n",
    "<!--TEASER_END-->"
   ]
  },
  {
   "cell_type": "markdown",
   "metadata": {},
   "source": [
    "# Minimizing Cross Entropy"
   ]
  },
  {
   "cell_type": "markdown",
   "metadata": {
    "collapsed": true
   },
   "source": []
  }
 ],
 "metadata": {
  "kernelspec": {
   "display_name": "Python 2",
   "language": "python",
   "name": "python2"
  },
  "language_info": {
   "codemirror_mode": {
    "name": "ipython",
    "version": 2
   },
   "file_extension": ".py",
   "mimetype": "text/x-python",
   "name": "python",
   "nbconvert_exporter": "python",
   "pygments_lexer": "ipython2",
   "version": "2.7.10"
  }
 },
 "nbformat": 4,
 "nbformat_minor": 0
}
